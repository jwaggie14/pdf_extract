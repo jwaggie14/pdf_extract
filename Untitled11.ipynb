{
 "cells": [
  {
   "cell_type": "code",
   "execution_count": null,
   "metadata": {},
   "outputs": [],
   "source": [
    "import requests, PyPDF2, io\n",
    "import numpy as np\n",
    "import re\n",
    "import pandas as pd\n",
    "from sqlalchemy import create_engine\n",
    "\n",
    "url = \"https://www.spglobal.com/platts/plattscontent/_assets/_files/en/productsservices/market-reports/oilgram-proce-report-060818.pdf\"\n",
    "response = requests.get(url)"
   ]
  },
  {
   "cell_type": "code",
   "execution_count": 43,
   "metadata": {},
   "outputs": [
    {
     "data": {
      "text/plain": [
       "[(0, 'WTI', 1, 'PCACG00', '68.48', '68.50', '68.490', '-0.470'),\n",
       " (1, 'WTI', 2, 'PCACH00', '67.34', '67.36', '67.350', '-0.310'),\n",
       " (2, 'WTI', 3, 'AAGIT00', '66.92', '66.94', '66.930', '-0.250'),\n",
       " (3, 'WTI_EFP', 1, 'AAGVT00', '-0.01', '0.01', '0.000', '0.000'),\n",
       " (4, 'WTI_EFP', 2, 'AAGVU00', '-0.01', '0.01', '0.000', '0.000'),\n",
       " (5, 'WTI_EFP', 3, 'AAGVV00', '-0.01', '0.01', '0.000', '0.000'),\n",
       " (6, 'Light_Houston_', 1, 'AAXEW00', '', '', '70.890', '-0.470'),\n",
       " (7, 'Light_Houston_', 2, 'AAYRY00', '', '', '71.050', '-0.310'),\n",
       " (8, 'LOOP_Sour', 1, 'AALSM01', '', '', '68.190', '-0.470'),\n",
       " (9, 'LOOP_Sour', 2, 'AALSM02', '', '', '68.200', '-0.060'),\n",
       " (10, 'LOOP_Sour', 3, 'AALSM03', '', '', '68.280', '0.000'),\n",
       " (11, 'Eagle_Ford_Marker', 1, 'AAYAJ00', '', '', '71.000', '-0.350'),\n",
       " (12, 'Mars', 1, 'AAMBR00', '68.48', '68.50', '68.490', '-0.470'),\n",
       " (13, 'Mars', 2, 'AAMBU00', '68.49', '68.51', '68.500', '-0.060'),\n",
       " (14, 'Mars', 3, 'AAMBX00', '68.57', '68.59', '68.580', '0.000'),\n",
       " (15, 'Mars/WTI', 1, 'AAGWH00', '-0.01', '0.01', '0.000', '0.000'),\n",
       " (16, 'Mars/WTI', 2, 'AAKTH00', '1.14', '1.16', '1.150', '+0.250'),\n",
       " (17, 'Mars/WTI', 3, 'AAMBO00', '1.64', '1.66', '1.650', '+0.250'),\n",
       " (18, 'LOOP/WTI', 1, 'AALOM01', '', '', '-0.300', '0.000'),\n",
       " (19, 'LOOP/WTI', 2, 'AALOM02', '', '', '0.850', '+0.250'),\n",
       " (20, 'LOOP/WTI', 3, 'AALOM03', '', '', '1.350', '+0.250'),\n",
       " (21, 'LOOP/Mars', 1, 'AALPM01', '', '', '-0.300', '0.000'),\n",
       " (22, 'LOOP/Mars', 2, 'AALPM02', '', '', '-0.300', '0.000'),\n",
       " (23, 'LOOP/Mars', 3, 'AALPM03', '', '', '-0.300', '0.000'),\n",
       " (24, 'Dated_brent', 1, 'AAQBF00', '72.37', '72.39', '72.380', '-1.150'),\n",
       " (25, 'P-Plus_WTI', 1, 'PCACI00', '4.64', '4.66', '4.650', '-0.180'),\n",
       " (26, 'P-5_WTI', 1, 'AAFEN00', '', '', '65.040', '-0.450'),\n",
       " (27, 'WTI-Delta', 1, 'AAEJK00', '1.26', '1.28', '1.270', '-0.180'),\n",
       " (28, 'Kern_River', 1, 'PCABJ00', '71.23', '71.25', '71.240', '+1.')]"
      ]
     },
     "execution_count": 43,
     "metadata": {},
     "output_type": "execute_result"
    }
   ],
   "source": [
    "with io.BytesIO(response.content) as open_pdf_file:\n",
    "    read_pdf = PyPDF2.PdfFileReader(open_pdf_file)\n",
    "    num_pages = read_pdf.getNumPages()\n",
    "    page = read_pdf.getPage(22)\n",
    "    text = page.extractText()\n",
    "    text = text.replace('Œ',' ')\n",
    "    text = text.replace('/',' ')\n",
    "\n",
    "product_mapping = pd.read_csv('product_mapping.csv')\n",
    "product_mapping['Code_stop'] = product_mapping['Code'].shift(-1)\n",
    "\n",
    "def find_price(code, code_stop):\n",
    "    start = text.find(code)\n",
    "    if not code_stop:\n",
    "        stop = start + 30\n",
    "    else:\n",
    "        stop = text.find(code_stop)\n",
    "    substring = text[start:stop]\n",
    "    letter_pos = re.search('[A-Za-z]',substring[7:])\n",
    "    if letter_pos == None:\n",
    "        sub_list = substring.split()\n",
    "    else:\n",
    "        sub_list = substring[:(letter_pos.start()+7)].split()\n",
    "    temp_list = []\n",
    "    for k, st in enumerate(sub_list):\n",
    "        if sub_list[k] != '':\n",
    "            temp_list.append(k)\n",
    "    sub_list = [sub_list[i] for i in temp_list]\n",
    "    if len(sub_list) == 3:\n",
    "        sub_list = [sub_list[0]] + ['',''] + sub_list[1:]\n",
    "    return sub_list\n",
    "\n",
    "product_mapping['Code_stop'] = product_mapping['Code_stop'].fillna('')\n",
    "product_mapping['prices'] = product_mapping.apply(lambda x: find_price(x['Code'],x['Code_stop']), axis=1)\n",
    "\n",
    "temp = pd.DataFrame(product_mapping.prices.tolist(), columns=['Code','Bid','Ask','Mid','Change'])\n",
    "prices = product_mapping.merge(temp,how='left',on='Code').drop(['prices','Code_stop'],axis=1)\n",
    "engine = create_engine('sqlite://', echo=False)\n",
    "\n",
    "prices.to_sql('crudes', con=engine)\n",
    "engine.execute(\"SELECT * FROM crudes\").fetchall()"
   ]
  },
  {
   "cell_type": "code",
   "execution_count": null,
   "metadata": {},
   "outputs": [],
   "source": []
  }
 ],
 "metadata": {
  "kernelspec": {
   "display_name": "Python 3",
   "language": "python",
   "name": "python3"
  },
  "language_info": {
   "codemirror_mode": {
    "name": "ipython",
    "version": 3
   },
   "file_extension": ".py",
   "mimetype": "text/x-python",
   "name": "python",
   "nbconvert_exporter": "python",
   "pygments_lexer": "ipython3",
   "version": "3.6.4"
  }
 },
 "nbformat": 4,
 "nbformat_minor": 2
}
